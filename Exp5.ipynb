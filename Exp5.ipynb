{
 "cells": [
  {
   "cell_type": "markdown",
   "id": "e3cc5499",
   "metadata": {},
   "source": [
    "Object:- WAP To build and evaluate a Convolutional Neural Network (CNN) using Keras library to classify mnist fashion dataset.Demonstrate the effect of filter size, regularization, batch size and optimization algorithm on model performance.\n"
   ]
  },
  {
   "cell_type": "code",
   "execution_count": 1,
   "id": "c7396569",
   "metadata": {},
   "outputs": [],
   "source": [
    "import numpy as np\n",
    "import matplotlib.pyplot as plt\n",
    "from tensorflow.keras.datasets import fashion_mnist\n",
    "from tensorflow.keras.models import Sequential\n",
    "from tensorflow.keras.layers import Conv2D, MaxPooling2D, Flatten, Dense, Dropout\n",
    "from tensorflow.keras.utils import to_categorical\n",
    "from tensorflow.keras.regularizers import l2\n",
    "from tensorflow.keras.optimizers import Adam, SGD, RMSprop"
   ]
  },
  {
   "cell_type": "code",
   "execution_count": 5,
   "id": "85c7150c",
   "metadata": {},
   "outputs": [
    {
     "name": "stdout",
     "output_type": "stream",
     "text": [
      "Downloading data from https://storage.googleapis.com/tensorflow/tf-keras-datasets/train-labels-idx1-ubyte.gz\n",
      "\u001b[1m29515/29515\u001b[0m \u001b[32m━━━━━━━━━━━━━━━━━━━━\u001b[0m\u001b[37m\u001b[0m \u001b[1m0s\u001b[0m 3us/step\n",
      "Downloading data from https://storage.googleapis.com/tensorflow/tf-keras-datasets/train-images-idx3-ubyte.gz\n",
      "\u001b[1m26421880/26421880\u001b[0m \u001b[32m━━━━━━━━━━━━━━━━━━━━\u001b[0m\u001b[37m\u001b[0m \u001b[1m19s\u001b[0m 1us/step\n",
      "Downloading data from https://storage.googleapis.com/tensorflow/tf-keras-datasets/t10k-labels-idx1-ubyte.gz\n",
      "\u001b[1m5148/5148\u001b[0m \u001b[32m━━━━━━━━━━━━━━━━━━━━\u001b[0m\u001b[37m\u001b[0m \u001b[1m0s\u001b[0m 2us/step\n",
      "Downloading data from https://storage.googleapis.com/tensorflow/tf-keras-datasets/t10k-images-idx3-ubyte.gz\n",
      "\u001b[1m4422102/4422102\u001b[0m \u001b[32m━━━━━━━━━━━━━━━━━━━━\u001b[0m\u001b[37m\u001b[0m \u001b[1m5s\u001b[0m 1us/step\n"
     ]
    }
   ],
   "source": [
    "# Load Fashion MNIST Dataset\n",
    "(x_train, y_train), (x_test, y_test) = fashion_mnist.load_data()\n",
    "\n",
    "# Normalize and reshape data\n",
    "x_train = x_train.reshape(-1, 28, 28, 1).astype('float32') / 255.0\n",
    "x_test  = x_test.reshape(-1, 28, 28, 1).astype('float32') / 255.0\n",
    "y_train = to_categorical(y_train, 10)\n",
    "y_test  = to_categorical(y_test, 10)\n"
   ]
  },
  {
   "cell_type": "code",
   "execution_count": 6,
   "id": "75e678c1",
   "metadata": {},
   "outputs": [],
   "source": [
    "# Model builder function\n",
    "def build_model(filter_size=3, reg_rate=0.0, optimizer='adam'):\n",
    "    model = Sequential()\n",
    "    model.add(Conv2D(32, (filter_size, filter_size), activation='relu', input_shape=(28, 28, 1),\n",
    "                     kernel_regularizer=l2(reg_rate)))\n",
    "    model.add(MaxPooling2D(pool_size=(2, 2)))\n",
    "    model.add(Flatten())\n",
    "    model.add(Dense(128, activation='relu', kernel_regularizer=l2(reg_rate)))\n",
    "    model.add(Dropout(0.5))\n",
    "    model.add(Dense(10, activation='softmax'))\n",
    "\n",
    "    if optimizer == 'adam':\n",
    "        opt = Adam()\n",
    "    elif optimizer == 'sgd':\n",
    "        opt = SGD()\n",
    "    elif optimizer == 'rmsprop':\n",
    "        opt = RMSprop()\n",
    "    \n",
    "    model.compile(optimizer=opt, loss='categorical_crossentropy', metrics=['accuracy'])\n",
    "    return model\n"
   ]
  },
  {
   "cell_type": "code",
   "execution_count": 7,
   "id": "6fc885fe",
   "metadata": {},
   "outputs": [
    {
     "name": "stdout",
     "output_type": "stream",
     "text": [
      "\n",
      "Training: Filter 3x3\n"
     ]
    },
    {
     "name": "stderr",
     "output_type": "stream",
     "text": [
      "c:\\Users\\admin\\AppData\\Local\\Programs\\Python\\Python312\\Lib\\site-packages\\keras\\src\\layers\\convolutional\\base_conv.py:107: UserWarning: Do not pass an `input_shape`/`input_dim` argument to a layer. When using Sequential models, prefer using an `Input(shape)` object as the first layer in the model instead.\n",
      "  super().__init__(activity_regularizer=activity_regularizer, **kwargs)\n"
     ]
    },
    {
     "name": "stdout",
     "output_type": "stream",
     "text": [
      "Filter 3x3 - Test Accuracy: 0.9039\n",
      "\n",
      "Training: Filter 5x5\n",
      "Filter 5x5 - Test Accuracy: 0.8939\n",
      "\n",
      "Training: L2 Regularization\n",
      "L2 Regularization - Test Accuracy: 0.8301\n",
      "\n",
      "Training: Small Batch Size\n",
      "Small Batch Size - Test Accuracy: 0.9055\n",
      "\n",
      "Training: Optimizer SGD\n",
      "Optimizer SGD - Test Accuracy: 0.8328\n"
     ]
    }
   ],
   "source": [
    "# Different configurations to test\n",
    "configs = [\n",
    "    {'name': 'Filter 3x3', 'filter_size': 3, 'reg_rate': 0.0, 'batch_size': 64, 'optimizer': 'adam'},\n",
    "    {'name': 'Filter 5x5', 'filter_size': 5, 'reg_rate': 0.0, 'batch_size': 64, 'optimizer': 'adam'},\n",
    "    {'name': 'L2 Regularization', 'filter_size': 3, 'reg_rate': 0.01, 'batch_size': 64, 'optimizer': 'adam'},\n",
    "    {'name': 'Small Batch Size', 'filter_size': 3, 'reg_rate': 0.0, 'batch_size': 32, 'optimizer': 'adam'},\n",
    "    {'name': 'Optimizer SGD', 'filter_size': 3, 'reg_rate': 0.0, 'batch_size': 64, 'optimizer': 'sgd'},\n",
    "]\n",
    "\n",
    "# Train and evaluate models\n",
    "results = []\n",
    "for config in configs:\n",
    "    print(f\"\\nTraining: {config['name']}\")\n",
    "    model = build_model(config['filter_size'], config['reg_rate'], config['optimizer'])\n",
    "    history = model.fit(x_train, y_train, epochs=5, batch_size=config['batch_size'], verbose=0,\n",
    "                        validation_data=(x_test, y_test))\n",
    "    test_loss, test_acc = model.evaluate(x_test, y_test, verbose=0)\n",
    "    print(f\"{config['name']} - Test Accuracy: {test_acc:.4f}\")\n",
    "    results.append((config['name'], test_acc))\n",
    "\n"
   ]
  },
  {
   "cell_type": "code",
   "execution_count": 8,
   "id": "5f764e9c",
   "metadata": {},
   "outputs": [
    {
     "data": {
      "image/png": "[encoded data removed]",
      "text/plain": [
       "<Figure size 1000x500 with 1 Axes>"
      ]
     },
     "metadata": {},
     "output_type": "display_data"
    }
   ],
   "source": [
    "# Plot results\n",
    "names = [r[0] for r in results]\n",
    "scores = [r[1] for r in results]\n",
    "\n",
    "plt.figure(figsize=(10,5))\n",
    "plt.barh(names, scores, color='skyblue')\n",
    "plt.xlabel(\"Accuracy\")\n",
    "plt.title(\"Effect of Different Hyperparameters on CNN Performance\")\n",
    "plt.xlim(0, 1)\n",
    "plt.grid(True)\n",
    "plt.show()"
   ]
  },
  {
   "cell_type": "markdown",
   "id": "77476a3f",
   "metadata": {},
   "source": [
    "Description of code:- \n",
    "1.Classify images from the Fashion MNIST dataset.\n",
    "\n",
    "2.Analyze the effect of key hyperparameters: Filter Size, Regularization, Batch Size, Optimization Algorithm\n",
    "\n",
    "3.Dataset\n",
    "Fashion MNIST: 70,000 grayscale images of fashion items (28x28 pixels).\n",
    "               60,000 training images.\n",
    "               10,000 test images.\n",
    "               10 classes such as T-shirt, Trouser, Pullover, Dress, etc.\n",
    "\n",
    "4.CNN Architecture :\n",
    "Conv2D Layer: Extract features from image using different filter sizes.\n",
    "\n",
    "MaxPooling2D: Downsamples the feature maps.\n",
    "\n",
    "Flatten: Converts 2D features into 1D.\n",
    "\n",
    "Dense Layer: Fully connected layer for classification.\n",
    "\n",
    "Dropout: Prevents overfitting.\n",
    "\n",
    "Output Layer: 10 neurons with Softmax activation.\n",
    "\n",
    "5.Evaluation Metrics:\n",
    "\n",
    "Loss Function: Categorical Crossentropy,\n",
    "\n",
    "Accuracy: Main evaluation metric,\n",
    "\n",
    "Validation Accuracy: Used to monitor model generalization,\n",
    "\n",
    "Test Accuracy: Final evaluation.\n",
    "\n",
    "6.Conclusion :\n",
    "CNNs are highly effective for image classification tasks like Fashion MNIST.\n",
    "\n",
    "Tuning filter size, regularization, batch size, and optimizer significantly impacts model performance.\n",
    "\n",
    "Best performance in this experiment was observed using:\n",
    "\n",
    "Filter size 3x3,\n",
    "\n",
    "Adam Optimizer,\n",
    "\n",
    "Batch size 64,\n",
    "\n",
    "With/without L2 depending on overfitting.\n",
    "\n",
    "output:- Filter 3x3 - Test Accuracy: 0.9039\n",
    "\n",
    "Training: Filter 5x5\n",
    "Filter 5x5 - Test Accuracy: 0.8939\n",
    "\n",
    "Training: L2 Regularization\n",
    "L2 Regularization - Test Accuracy: 0.8301\n",
    "\n",
    "Training: Small Batch Size\n",
    "Small Batch Size - Test Accuracy: 0.9055\n",
    "\n",
    "Training: Optimizer SGD\n",
    "Optimizer SGD - Test Accuracy: 0.8328\n"
   ]
  },
  {
   "cell_type": "markdown",
   "id": "dc717016",
   "metadata": {},
   "source": []
  }
 ],
 "metadata": {
  "kernelspec": {
   "display_name": "Python 3",
   "language": "python",
   "name": "python3"
  },
  "language_info": {
   "codemirror_mode": {
    "name": "ipython",
    "version": 3
   },
   "file_extension": ".py",
   "mimetype": "text/x-python",
   "name": "python",
   "nbconvert_exporter": "python",
   "pygments_lexer": "ipython3",
   "version": "3.12.2"
  }
 },
 "nbformat": 4,
 "nbformat_minor": 5
}
