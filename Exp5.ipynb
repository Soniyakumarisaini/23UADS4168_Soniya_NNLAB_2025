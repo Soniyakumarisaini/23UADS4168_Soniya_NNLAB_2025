{
 "cells": [
  {
   "cell_type": "code",
   "execution_count": null,
   "id": "c7396569",
   "metadata": {},
   "outputs": [
    {
     "name": "stdout",
     "output_type": "stream",
     "text": [
      "Downloading data from https://storage.googleapis.com/tensorflow/tf-keras-datasets/train-labels-idx1-ubyte.gz\n"
     ]
    }
   ],
   "source": [
    "import numpy as np\n",
    "import matplotlib.pyplot as plt\n",
    "from tensorflow.keras.datasets import fashion_mnist\n",
    "from tensorflow.keras.models import Sequential\n",
    "from tensorflow.keras.layers import Conv2D, MaxPooling2D, Flatten, Dense, Dropout\n",
    "from tensorflow.keras.utils import to_categorical\n",
    "from tensorflow.keras.regularizers import l2\n",
    "from tensorflow.keras.optimizers import Adam, SGD, RMSprop\n",
    "\n",
    "# Load Fashion MNIST Dataset\n",
    "(x_train, y_train), (x_test, y_test) = fashion_mnist.load_data()\n",
    "\n",
    "# Normalize and reshape data\n",
    "x_train = x_train.reshape(-1, 28, 28, 1).astype('float32') / 255.0\n",
    "x_test  = x_test.reshape(-1, 28, 28, 1).astype('float32') / 255.0\n",
    "y_train = to_categorical(y_train, 10)\n",
    "y_test  = to_categorical(y_test, 10)\n",
    "\n",
    "# Model builder function\n",
    "def build_model(filter_size=3, reg_rate=0.0, optimizer='adam'):\n",
    "    model = Sequential()\n",
    "    model.add(Conv2D(32, (filter_size, filter_size), activation='relu', input_shape=(28, 28, 1),\n",
    "                     kernel_regularizer=l2(reg_rate)))\n",
    "    model.add(MaxPooling2D(pool_size=(2, 2)))\n",
    "    model.add(Flatten())\n",
    "    model.add(Dense(128, activation='relu', kernel_regularizer=l2(reg_rate)))\n",
    "    model.add(Dropout(0.5))\n",
    "    model.add(Dense(10, activation='softmax'))\n",
    "\n",
    "    if optimizer == 'adam':\n",
    "        opt = Adam()\n",
    "    elif optimizer == 'sgd':\n",
    "        opt = SGD()\n",
    "    elif optimizer == 'rmsprop':\n",
    "        opt = RMSprop()\n",
    "    \n",
    "    model.compile(optimizer=opt, loss='categorical_crossentropy', metrics=['accuracy'])\n",
    "    return model\n",
    "\n",
    "# Different configurations to test\n",
    "configs = [\n",
    "    {'name': 'Filter 3x3', 'filter_size': 3, 'reg_rate': 0.0, 'batch_size': 64, 'optimizer': 'adam'},\n",
    "    {'name': 'Filter 5x5', 'filter_size': 5, 'reg_rate': 0.0, 'batch_size': 64, 'optimizer': 'adam'},\n",
    "    {'name': 'L2 Regularization', 'filter_size': 3, 'reg_rate': 0.01, 'batch_size': 64, 'optimizer': 'adam'},\n",
    "    {'name': 'Small Batch Size', 'filter_size': 3, 'reg_rate': 0.0, 'batch_size': 32, 'optimizer': 'adam'},\n",
    "    {'name': 'Optimizer SGD', 'filter_size': 3, 'reg_rate': 0.0, 'batch_size': 64, 'optimizer': 'sgd'},\n",
    "]\n",
    "\n",
    "# Train and evaluate models\n",
    "results = []\n",
    "for config in configs:\n",
    "    print(f\"\\nTraining: {config['name']}\")\n",
    "    model = build_model(config['filter_size'], config['reg_rate'], config['optimizer'])\n",
    "    history = model.fit(x_train, y_train, epochs=5, batch_size=config['batch_size'], verbose=0,\n",
    "                        validation_data=(x_test, y_test))\n",
    "    test_loss, test_acc = model.evaluate(x_test, y_test, verbose=0)\n",
    "    print(f\"{config['name']} - Test Accuracy: {test_acc:.4f}\")\n",
    "    results.append((config['name'], test_acc))\n",
    "\n",
    "# Plot results\n",
    "names = [r[0] for r in results]\n",
    "scores = [r[1] for r in results]\n",
    "\n",
    "plt.figure(figsize=(10,5))\n",
    "plt.barh(names, scores, color='skyblue')\n",
    "plt.xlabel(\"Accuracy\")\n",
    "plt.title(\"Effect of Different Hyperparameters on CNN Performance\")\n",
    "plt.xlim(0, 1)\n",
    "plt.grid(True)\n",
    "plt.show()"
   ]
  },
  {
   "cell_type": "code",
   "execution_count": null,
   "id": "85c7150c",
   "metadata": {},
   "outputs": [],
   "source": []
  }
 ],
 "metadata": {
  "kernelspec": {
   "display_name": "Python 3",
   "language": "python",
   "name": "python3"
  },
  "language_info": {
   "codemirror_mode": {
    "name": "ipython",
    "version": 3
   },
   "file_extension": ".py",
   "mimetype": "text/x-python",
   "name": "python",
   "nbconvert_exporter": "python",
   "pygments_lexer": "ipython3",
   "version": "3.12.2"
  }
 },
 "nbformat": 4,
 "nbformat_minor": 5
}
