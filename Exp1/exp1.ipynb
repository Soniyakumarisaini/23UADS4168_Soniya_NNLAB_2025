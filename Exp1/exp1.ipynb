{
 "cells": [
  {
   "cell_type": "code",
   "execution_count": 1,
   "metadata": {},
   "outputs": [],
   "source": [
    "import numpy as np"
   ]
  },
  {
   "cell_type": "code",
   "execution_count": 2,
   "metadata": {},
   "outputs": [],
   "source": [
    "# Activation function (step function)\n",
    "def step_function(x):\n",
    "    return np.where(x >= 0, 1, 0)"
   ]
  },
  {
   "cell_type": "code",
   "execution_count": 3,
   "metadata": {},
   "outputs": [],
   "source": [
    "# Perceptron Learning Algorithm\n",
    "class Perceptron:\n",
    "    def __init__(self, input_size, learning_rate=0.1, epochs=10):\n",
    "        # Initialize weights with small random numbers, and bias to 0\n",
    "        self.weights = np.random.randn(input_size)\n",
    "        self.bias = 0\n",
    "        self.learning_rate = learning_rate\n",
    "        self.epochs = epochs\n",
    "\n",
    "    def predict(self, X):\n",
    "        # Compute the dot product and add bias\n",
    "        linear_output = np.dot(X, self.weights) + self.bias\n",
    "        return step_function(linear_output)\n",
    "\n",
    "    def train(self, X, y):\n",
    "        # Training process\n",
    "        for epoch in range(self.epochs):\n",
    "            for inputs, target in zip(X, y):\n",
    "                prediction = self.predict(inputs)\n",
    "                # Update rule: weight adjustment based on error\n",
    "                error = target - prediction\n",
    "                self.weights += self.learning_rate * error * inputs\n",
    "                self.bias += self.learning_rate * error\n"
   ]
  },
  {
   "cell_type": "code",
   "execution_count": 4,
   "metadata": {},
   "outputs": [],
   "source": [
    "# NAND Truth Table: Inputs and Expected Outputs\n",
    "X_nand = np.array([[0, 0], [0, 1], [1, 0], [1, 1]])\n",
    "y_nand = np.array([1, 1, 1, 0])  # NAND outputs\n",
    "\n",
    "# XOR Truth Table: Inputs and Expected Outputs\n",
    "X_xor = np.array([[0, 0], [0, 1], [1, 0], [1, 1]])\n",
    "y_xor = np.array([0, 1, 1, 0])  # XOR outputs\n"
   ]
  },
  {
   "cell_type": "code",
   "execution_count": 5,
   "metadata": {},
   "outputs": [],
   "source": [
    "# Function to evaluate the performance of the model\n",
    "def evaluate_perceptron(X, y, perceptron):\n",
    "    predictions = perceptron.predict(X)\n",
    "    accuracy = np.mean(predictions == y) * 100\n",
    "    return accuracy\n"
   ]
  },
  {
   "cell_type": "code",
   "execution_count": 6,
   "metadata": {},
   "outputs": [
    {
     "name": "stdout",
     "output_type": "stream",
     "text": [
      "Training and evaluating for NAND...\n",
      "Accuracy on NAND: 100.00%\n"
     ]
    }
   ],
   "source": [
    "# Training and Evaluating on NAND\n",
    "print(\"Training and evaluating for NAND...\")\n",
    "perceptron_nand = Perceptron(input_size=2, epochs=100)\n",
    "perceptron_nand.train(X_nand, y_nand)\n",
    "accuracy_nand = evaluate_perceptron(X_nand, y_nand, perceptron_nand)\n",
    "print(f\"Accuracy on NAND: {accuracy_nand:.2f}%\")"
   ]
  },
  {
   "cell_type": "code",
   "execution_count": 7,
   "metadata": {},
   "outputs": [
    {
     "name": "stdout",
     "output_type": "stream",
     "text": [
      "\n",
      "Training and evaluating for XOR...\n",
      "Accuracy on XOR: 50.00%\n"
     ]
    }
   ],
   "source": [
    "# Training and Evaluating on XOR (This might not work well because a single perceptron can't solve XOR)\n",
    "print(\"\\nTraining and evaluating for XOR...\")\n",
    "perceptron_xor = Perceptron(input_size=2, epochs=100)\n",
    "perceptron_xor.train(X_xor, y_xor)\n",
    "accuracy_xor = evaluate_perceptron(X_xor, y_xor, perceptron_xor)\n",
    "print(f\"Accuracy on XOR: {accuracy_xor:.2f}%\")"
   ]
  },
  {
   "cell_type": "code",
   "execution_count": null,
   "metadata": {},
   "outputs": [],
   "source": []
  }
 ],
 "metadata": {
  "kernelspec": {
   "display_name": "Python 3",
   "language": "python",
   "name": "python3"
  },
  "language_info": {
   "codemirror_mode": {
    "name": "ipython",
    "version": 3
   },
   "file_extension": ".py",
   "mimetype": "text/x-python",
   "name": "python",
   "nbconvert_exporter": "python",
   "pygments_lexer": "ipython3",
   "version": "3.12.2"
  }
 },
 "nbformat": 4,
 "nbformat_minor": 2
}
