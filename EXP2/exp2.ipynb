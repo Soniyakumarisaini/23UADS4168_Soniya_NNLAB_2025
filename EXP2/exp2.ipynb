{
 "cells": [
  {
   "cell_type": "code",
   "execution_count": 1,
   "metadata": {},
   "outputs": [],
   "source": [
    "import numpy as np\n",
    "\n",
    "def sigmoid(x):\n",
    "    return 1 / (1 + np.exp(-x))\n",
    "\n",
    "def sigmoid_derivative(x):\n",
    "    return x * (1 - x)"
   ]
  },
  {
   "cell_type": "code",
   "execution_count": 2,
   "metadata": {},
   "outputs": [],
   "source": [
    "class MLP:\n",
    "    def __init__(self, input_size, hidden_size, output_size, lr=0.1, epochs=10000):\n",
    "        self.input_size = input_size\n",
    "        self.hidden_size = hidden_size\n",
    "        self.output_size = output_size\n",
    "        self.lr = lr\n",
    "        self.epochs = epochs\n",
    "        \n",
    "        # Initialize weights\n",
    "        self.weights_input_hidden = np.random.randn(self.input_size, self.hidden_size)\n",
    "        self.weights_hidden_output = np.random.randn(self.hidden_size, self.output_size)\n",
    "        \n",
    "        # Initialize biases\n",
    "        self.bias_hidden = np.zeros((1, self.hidden_size))\n",
    "        self.bias_output = np.zeros((1, self.output_size))\n",
    "    \n",
    "    def forward(self, X):\n",
    "        self.hidden_input = np.dot(X, self.weights_input_hidden) + self.bias_hidden\n",
    "        self.hidden_output = sigmoid(self.hidden_input)\n",
    "        self.final_input = np.dot(self.hidden_output, self.weights_hidden_output) + self.bias_output\n",
    "        self.final_output = sigmoid(self.final_input)\n",
    "        return self.final_output\n",
    "    \n",
    "    def backward(self, X, y):\n",
    "        # Compute output error\n",
    "        output_error = y - self.final_output\n",
    "        output_delta = output_error * sigmoid_derivative(self.final_output)\n",
    "\n",
    "        # Compute hidden layer error\n",
    "        hidden_error = np.dot(output_delta, self.weights_hidden_output.T)\n",
    "        hidden_delta = hidden_error * sigmoid_derivative(self.hidden_output)\n",
    "        \n",
    "        # Update weights and biases\n",
    "        self.weights_hidden_output += self.lr * np.dot(self.hidden_output.T, output_delta)\n",
    "        self.bias_output += self.lr * np.sum(output_delta, axis=0, keepdims=True)\n",
    "        self.weights_input_hidden += self.lr * np.dot(X.T, hidden_delta)\n",
    "        self.bias_hidden += self.lr * np.sum(hidden_delta, axis=0, keepdims=True)\n",
    "    \n",
    "    def train(self, X, y):\n",
    "        for _ in range(self.epochs):\n",
    "            self.forward(X)\n",
    "            self.backward(X, y)\n",
    "    \n",
    "    def predict(self, X):\n",
    "        return (self.forward(X) > 0.5).astype(int)\n"
   ]
  },
  {
   "cell_type": "code",
   "execution_count": 3,
   "metadata": {},
   "outputs": [
    {
     "name": "stdout",
     "output_type": "stream",
     "text": [
      "Predictions for XOR: [0 1 1 0]\n"
     ]
    }
   ],
   "source": [
    "# Define XOR truth table\n",
    "X = np.array([[0, 0], [0, 1], [1, 0], [1, 1]])\n",
    "y = np.array([[0], [1], [1], [0]])\n",
    "\n",
    "# Train MLP\n",
    "mlp = MLP(input_size=2, hidden_size=2, output_size=1)\n",
    "mlp.train(X, y)\n",
    "\n",
    "# Test MLP on XOR function\n",
    "predictions = mlp.predict(X)\n",
    "print(\"Predictions for XOR:\", predictions.flatten())"
   ]
  },
  {
   "cell_type": "code",
   "execution_count": null,
   "metadata": {},
   "outputs": [],
   "source": []
  }
 ],
 "metadata": {
  "kernelspec": {
   "display_name": "Python 3",
   "language": "python",
   "name": "python3"
  },
  "language_info": {
   "codemirror_mode": {
    "name": "ipython",
    "version": 3
   },
   "file_extension": ".py",
   "mimetype": "text/x-python",
   "name": "python",
   "nbconvert_exporter": "python",
   "pygments_lexer": "ipython3",
   "version": "3.12.2"
  }
 },
 "nbformat": 4,
 "nbformat_minor": 2
}
